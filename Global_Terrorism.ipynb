{
  "nbformat": 4,
  "nbformat_minor": 0,
  "metadata": {
    "colab": {
      "private_outputs": true,
      "provenance": [],
      "collapsed_sections": [
        "HhfV-JJviCcP",
        "Y3lxredqlCYt",
        "3RnN4peoiCZX",
        "x71ZqKXriCWQ",
        "7hBIi_osiCS2",
        "JlHwYmJAmNHm",
        "35m5QtbWiB9F",
        "PoPl-ycgm1ru",
        "H0kj-8xxnORC",
        "nA9Y7ga8ng1Z",
        "PBTbrJXOngz2",
        "u3PMJOP6ngxN",
        "dauF4eBmngu3",
        "bKJF3rekwFvQ",
        "MSa1f5Uengrz",
        "GF8Ens_Soomf",
        "0wOQAZs5pc--",
        "K5QZ13OEpz2H",
        "lQ7QKXXCp7Bj",
        "448CDAPjqfQr",
        "KSlN3yHqYklG",
        "t6dVpIINYklI",
        "ijmpgYnKYklI",
        "-JiQyfWJYklI",
        "EM7whBJCYoAo",
        "fge-S5ZAYoAp",
        "85gYPyotYoAp",
        "RoGjAbkUYoAp",
        "4Of9eVA-YrdM",
        "iky9q4vBYrdO",
        "F6T5p64dYrdO",
        "y-Ehk30pYrdP",
        "bamQiAODYuh1",
        "QHF8YVU7Yuh3",
        "GwzvFGzlYuh3",
        "qYpmQ266Yuh3",
        "OH-pJp9IphqM",
        "bbFf2-_FphqN",
        "_ouA3fa0phqN",
        "Seke61FWphqN",
        "PIIx-8_IphqN",
        "t27r6nlMphqO",
        "r2jJGEOYphqO",
        "b0JNsNcRphqO",
        "BZR9WyysphqO",
        "jj7wYXLtphqO",
        "eZrbJ2SmphqO",
        "rFu4xreNphqO",
        "YJ55k-q6phqO",
        "gCFgpxoyphqP",
        "OVtJsKN_phqQ",
        "lssrdh5qphqQ",
        "U2RJ9gkRphqQ",
        "1M8mcRywphqQ",
        "tgIPom80phqQ",
        "JMzcOPDDphqR",
        "x-EpHcCOp1ci",
        "X_VqEhTip1ck",
        "8zGJKyg5p1ck",
        "PVzmfK_Ep1ck",
        "n3dbpmDWp1ck",
        "ylSl6qgtp1ck",
        "ZWILFDl5p1ck",
        "M7G43BXep1ck",
        "Ag9LCva-p1cl",
        "E6MkPsBcp1cl",
        "2cELzS2fp1cl",
        "3MPXvC8up1cl",
        "NC_X3p0fY2L0",
        "UV0SzAkaZNRQ",
        "YPEH6qLeZNRQ",
        "q29F0dvdveiT",
        "EXh0U9oCveiU",
        "22aHeOlLveiV",
        "JcMwzZxoAimU",
        "8G2x9gOozGDZ",
        "gIfDvo9L0UH2"
      ]
    },
    "kernelspec": {
      "name": "python3",
      "display_name": "Python 3"
    },
    "language_info": {
      "name": "python"
    }
  },
  "cells": [
    {
      "cell_type": "markdown",
      "source": [
        "# **Project Name**    -\n",
        "\n"
      ],
      "metadata": {
        "id": "vncDsAP0Gaoa"
      }
    },
    {
      "cell_type": "markdown",
      "source": [
        "##### **Project Type**     - Exploratory Data Analysis(EDA)\n",
        "##### **Contribution**    - Individual\n",
        "##### **Name**------------- Raghav Tripathi"
      ],
      "metadata": {
        "id": "beRrZCGUAJYm"
      }
    },
    {
      "cell_type": "markdown",
      "source": [
        "# **Project Summary -**"
      ],
      "metadata": {
        "id": "FJNUwmbgGyua"
      }
    },
    {
      "cell_type": "markdown",
      "source": [
        "Terrorism continues to pose a significant threat to global security and human life. Analyzing patterns in terrorist activities can help governments, intelligence agencies, and policy makers to understand historical trends, identify high-risk regions, and develop informed counter-terrorism strategies. This project performs an Exploratory Data Analysis (EDA) on the Global Terrorism Database (GTD) to uncover meaningful insights using Python.\n",
        "\n",
        "📂 2. Dataset Description\n",
        "The dataset used in this analysis is the Global Terrorism Database, which contains detailed records of over 180,000 terrorist incidents from 1970 to 2017.\n",
        "\n",
        "Each record (row) in the dataset represents one terrorist event, described across multiple features:\n",
        "\n",
        "Date & Time: iyear, imonth, iday\n",
        "\n",
        "Geographical Location: country_txt, region_txt, provstate, city, latitude, longitude\n",
        "\n",
        "Attack Characteristics: attacktype1_txt, attacktype2_txt, success, suicide\n",
        "\n",
        "Target Information: targtype1_txt, targsubtype1_txt, corp1, target1, natlty1_txt\n",
        "\n",
        "Casualties: nkill, nwound, nkillus, nwoundus\n",
        "\n",
        "Terrorist Group Info: gname, motive, claimed\n",
        "\n",
        "Weapon Info: weaptype1_txt, weapsubtype1_txt\n",
        "\n",
        "⚙️ 3. Data Preprocessing\n",
        "To prepare the data for analysis, the following steps were taken:\n",
        "\n",
        "Handled Missing Values: Replaced or dropped null entries depending on relevance.\n",
        "\n",
        "Date Formatting: Combined iyear, imonth, and iday into a single datetime column for better time-series analysis.\n",
        "\n",
        "Column Filtering: Removed redundant columns like eventid and those with excessive missing values.\n",
        "\n",
        "Removed Duplicates: Ensured uniqueness of records.\n",
        "\n",
        "Converted Data Types: Ensured numeric fields (like nkill) were properly typed for aggregation and plotting.\n",
        "\n"
      ],
      "metadata": {
        "id": "F6v_1wHtG2nS"
      }
    },
    {
      "cell_type": "markdown",
      "source": [
        "# **Problem Statement**\n"
      ],
      "metadata": {
        "id": "yQaldy8SH6Dl"
      }
    },
    {
      "cell_type": "markdown",
      "source": [
        "Terrorism poses a serious threat to global peace, causing loss of life, economic damage, and political instability. To effectively combat terrorism, it is crucial to understand its patterns and trends. This project aims to analyze the Global Terrorism Dataset using Exploratory Data Analysis techniques to identify key regions, target types, attack methods, and responsible groups, helping stakeholders make data-driven decisions for preventive measures and counter-terrorism strategies."
      ],
      "metadata": {
        "id": "DpeJGUA3kjGy"
      }
    },
    {
      "cell_type": "markdown",
      "source": [
        "#### **Define Your Business Objective?**"
      ],
      "metadata": {
        "id": "PH-0ReGfmX4f"
      }
    },
    {
      "cell_type": "markdown",
      "source": [
        "The objective is to uncover actionable insights from global terrorism patterns to support data-driven decision-making for security, policy, and preventive measures."
      ],
      "metadata": {
        "id": "PhDvGCAqmjP1"
      }
    },
    {
      "cell_type": "markdown",
      "source": [
        "# ***Let's Begin !***"
      ],
      "metadata": {
        "id": "O_i_v8NEhb9l"
      }
    },
    {
      "cell_type": "markdown",
      "source": [
        "## ***1. Know Your Data***"
      ],
      "metadata": {
        "id": "HhfV-JJviCcP"
      }
    },
    {
      "cell_type": "code",
      "source": [
        "from google.colab import drive\n",
        "drive.mount('/content/drive')"
      ],
      "metadata": {
        "id": "D44doKDlDWI6"
      },
      "execution_count": null,
      "outputs": []
    },
    {
      "cell_type": "markdown",
      "source": [
        "### Import Libraries"
      ],
      "metadata": {
        "id": "Y3lxredqlCYt"
      }
    },
    {
      "cell_type": "code",
      "source": [
        "# Import Libraries\n",
        "import numpy as np\n",
        "import pandas as pd\n",
        "\n",
        "import seaborn as sns\n",
        "import matplotlib.pyplot as plt\n"
      ],
      "metadata": {
        "id": "M8Vqi-pPk-HR"
      },
      "execution_count": null,
      "outputs": []
    },
    {
      "cell_type": "markdown",
      "source": [
        "### Dataset Loading"
      ],
      "metadata": {
        "id": "3RnN4peoiCZX"
      }
    },
    {
      "cell_type": "code",
      "source": [
        "# Load Dataset\n",
        "#default encoder utf-8 was not able to read all the characters of the file or the\n",
        "#special characters that is why here we used ISO-8859-1 to read all the special characters that was not readabale by default utf-8.\n",
        "import pandas as pd\n",
        "\n",
        "dataset = pd.read_csv('/content/drive/MyDrive/dataset/Copy of Global Terrorism Data.csv', encoding='ISO-8859-1')\n"
      ],
      "metadata": {
        "id": "4CkvbW_SlZ_R"
      },
      "execution_count": null,
      "outputs": []
    },
    {
      "cell_type": "markdown",
      "source": [
        "### Dataset First View"
      ],
      "metadata": {
        "id": "x71ZqKXriCWQ"
      }
    },
    {
      "cell_type": "code",
      "source": [
        "# Dataset First Look\n",
        "dataset.head()"
      ],
      "metadata": {
        "id": "LWNFOSvLl09H"
      },
      "execution_count": null,
      "outputs": []
    },
    {
      "cell_type": "markdown",
      "source": [
        "### Dataset Rows & Columns count"
      ],
      "metadata": {
        "id": "7hBIi_osiCS2"
      }
    },
    {
      "cell_type": "code",
      "source": [
        "# Dataset Rows & Columns count\n",
        "dataset.shape"
      ],
      "metadata": {
        "id": "Kllu7SJgmLij"
      },
      "execution_count": null,
      "outputs": []
    },
    {
      "cell_type": "markdown",
      "source": [
        "### Dataset Information"
      ],
      "metadata": {
        "id": "JlHwYmJAmNHm"
      }
    },
    {
      "cell_type": "code",
      "source": [
        "# Dataset Info\n",
        "dataset.info()"
      ],
      "metadata": {
        "id": "e9hRXRi6meOf"
      },
      "execution_count": null,
      "outputs": []
    },
    {
      "cell_type": "markdown",
      "source": [
        "#### Duplicate Values"
      ],
      "metadata": {
        "id": "35m5QtbWiB9F"
      }
    },
    {
      "cell_type": "code",
      "source": [
        "# Dataset Duplicate Value Count\n",
        "len(dataset[dataset.duplicated()])"
      ],
      "metadata": {
        "id": "1sLdpKYkmox0"
      },
      "execution_count": null,
      "outputs": []
    },
    {
      "cell_type": "markdown",
      "source": [
        "#### Missing Values/Null Values"
      ],
      "metadata": {
        "id": "PoPl-ycgm1ru"
      }
    },
    {
      "cell_type": "code",
      "source": [
        "# Missing Values/Null Values Count\n",
        "print(dataset.isnull().sum())"
      ],
      "metadata": {
        "id": "GgHWkxvamxVg"
      },
      "execution_count": null,
      "outputs": []
    },
    {
      "cell_type": "code",
      "source": [
        "# Visualizing the missing values\n",
        "plt.figure(figsize=(18, 10))\n",
        "sns.heatmap(dataset.isnull(), cbar=False, cmap='viridis', yticklabels=False)\n",
        "plt.title('Missing Values Heatmap')\n",
        "plt.show()"
      ],
      "metadata": {
        "id": "3q5wnI3om9sJ"
      },
      "execution_count": null,
      "outputs": []
    },
    {
      "cell_type": "markdown",
      "source": [
        "How to Read This Heatmap\n",
        "\n",
        "Yellow areas = Missing values (NaN)\n",
        "\n",
        "Purple areas = Non-missing (valid) data"
      ],
      "metadata": {
        "id": "O7sfDhEfQpUm"
      }
    },
    {
      "cell_type": "markdown",
      "source": [
        "### What did you know about your dataset?"
      ],
      "metadata": {
        "id": "H0kj-8xxnORC"
      }
    },
    {
      "cell_type": "markdown",
      "source": [
        "Terrorism incidents can vary greatly based on region, time period, target type, and attack method. Understanding these patterns is essential for governments, security agencies, and policy makers to develop effective counter-terrorism strategies and allocate resources more efficiently. The dataset includes over 181691 rows and 135 columns, covering incidents worldwide from 1970 to 2017. It contains missing values in several columns such as approxdate, related, motive, weapsubtype3_txt, and gname2, totaling approximately 172,000 missing values. This project focuses on cleaning, analyzing, and visualizing the dataset to extract key insights related to attack trends, geographic hotspots, affected targets, and active terrorist groups.\n",
        "\n"
      ],
      "metadata": {
        "id": "gfoNAAC-nUe_"
      }
    },
    {
      "cell_type": "markdown",
      "source": [
        "## ***2. Understanding Your Variables***"
      ],
      "metadata": {
        "id": "nA9Y7ga8ng1Z"
      }
    },
    {
      "cell_type": "code",
      "source": [
        "# Dataset Columns\n",
        "dataset.columns"
      ],
      "metadata": {
        "id": "j7xfkqrt5Ag5"
      },
      "execution_count": null,
      "outputs": []
    },
    {
      "cell_type": "code",
      "source": [
        "# Dataset Describe\n",
        "dataset.describe()"
      ],
      "metadata": {
        "id": "DnOaZdaE5Q5t"
      },
      "execution_count": null,
      "outputs": []
    },
    {
      "cell_type": "markdown",
      "source": [
        "### Variables Description"
      ],
      "metadata": {
        "id": "PBTbrJXOngz2"
      }
    },
    {
      "cell_type": "markdown",
      "source": [
        "eventid: Unique event identifier\n",
        "\n",
        "iyear: Year of incident\n",
        "\n",
        "imonth: Month of incident\n",
        "\n",
        "iday: Day of incident\n",
        "\n",
        "approxdate: Approximate date description\n",
        "\n",
        "country: Country code\n",
        "\n",
        "country_txt: Country name\n",
        "\n",
        "region: Region code\n",
        "\n",
        "region_txt: Region name\n",
        "\n",
        "provstate: Province or state\n",
        "\n",
        "city: City of incident\n",
        "\n",
        "latitude: Latitude coordinate\n",
        "\n",
        "longitude: Longitude coordinate\n",
        "\n",
        "vicinity: Near the listed city\n",
        "\n",
        "summary: Short description of incident\n",
        "\n",
        "crit1: Political/ideological motivation\n",
        "\n",
        "crit2: Intent to intimidate\n",
        "\n",
        "crit3: Outside international law\n",
        "\n",
        "doubtterr: Doubt if terrorist act\n",
        "\n",
        "alternative: Alternative event code\n",
        "\n",
        "alternative_txt: Description of alternative\n",
        "\n",
        "attacktype1: Primary attack code\n",
        "\n",
        "attacktype1_txt: Primary attack type\n",
        "\n",
        "attacktype2: Secondary attack code\n",
        "\n",
        "attacktype2_txt: Secondary attack type\n",
        "\n",
        "attacktype3: Tertiary attack code\n",
        "\n",
        "attacktype3_txt: Tertiary attack type\n",
        "\n",
        "success: Attack success flag\n",
        "\n",
        "suicide: Suicide attack flag\n",
        "\n",
        "targtype1: Primary target code\n",
        "\n",
        "targtype1_txt: Primary target type\n",
        "\n",
        "targsubtype1: Primary target subtype\n",
        "\n",
        "targsubtype1_txt: Subtype description\n",
        "\n",
        "corp1: Name of target company\n",
        "\n",
        "target1: Specific target description\n",
        "\n",
        "natlty1: Nationality code of target\n",
        "\n",
        "natlty1_txt: Nationality of target\n",
        "\n",
        "gname: Group responsible\n",
        "\n",
        "gsubname: Subgroup responsible\n",
        "\n",
        "gname2: Second group involved\n",
        "\n",
        "gsubname2: Subgroup of second group\n",
        "\n",
        "gname3: Third group involved\n",
        "\n",
        "gsubname3: Subgroup of third group\n",
        "\n",
        "motive: Stated reason for attack\n",
        "\n",
        "claimed: Claimed responsibility flag\n",
        "\n",
        "claimmode: Mode of claiming attack\n",
        "\n",
        "claimmode_txt: Description of claim mode\n",
        "\n",
        "compclaim: Competing claims flag\n",
        "\n",
        "weaptype1: Primary weapon code\n",
        "\n",
        "weaptype1_txt: Primary weapon type\n",
        "\n",
        "weapsubtype1: Primary weapon subtype\n",
        "\n",
        "weapsubtype1_txt: Subtype description\n",
        "\n",
        "weaptype2/3/4: Secondary weapon codes\n",
        "\n",
        "weapsubtype2/3/4: Secondary subtypes\n",
        "\n",
        "nkillus: U.S. fatalities\n",
        "\n",
        "nkillter: Terrorist fatalities\n",
        "\n",
        "nwound: Number of wounded\n",
        "\n",
        "nwoundus: U.S. wounded\n",
        "\n",
        "nwoundte: Terrorist wounded\n",
        "\n",
        "property: Property damage indicator\n",
        "\n",
        "propextent: Damage extent code\n",
        "\n",
        "propextent_txt: Damage extent text\n",
        "\n",
        "propvalue: Estimated property damage\n",
        "\n",
        "propcomment: Damage description\n",
        "\n",
        "ishostkid: Hostage-taking indicator\n",
        "\n",
        "hostkidoutcome: Hostage outcome code\n",
        "\n",
        "ransom: Ransom demand indicator\n",
        "\n",
        "ransomamt: Ransom amount\n",
        "\n",
        "ransompaid: Ransom paid amount\n",
        "\n",
        "hostkidtime: Duration of kidnapping\n",
        "\n",
        "hostkidlocation: Hostage location\n",
        "\n",
        "INT_LOG: International logistical support\n",
        "\n",
        "INT_IDEO: International ideological support\n",
        "\n",
        "INT_MISC: Other international support\n",
        "\n",
        "INT_ANY: Any international support\n",
        "\n",
        "related: Related event IDs"
      ],
      "metadata": {
        "id": "aJV4KIxSnxay"
      }
    },
    {
      "cell_type": "markdown",
      "source": [
        "### Check Unique Values for each variable."
      ],
      "metadata": {
        "id": "u3PMJOP6ngxN"
      }
    },
    {
      "cell_type": "code",
      "source": [
        "# Check Unique Values for each variable.\n",
        "for column in dataset.columns:\n",
        "    unique_count = dataset[column].nunique()\n",
        "    print(f\"Column: {column} = Unique Values: {unique_count}\")"
      ],
      "metadata": {
        "id": "zms12Yq5n-jE"
      },
      "execution_count": null,
      "outputs": []
    },
    {
      "cell_type": "markdown",
      "source": [
        "## 3. ***Data Wrangling***"
      ],
      "metadata": {
        "id": "dauF4eBmngu3"
      }
    },
    {
      "cell_type": "markdown",
      "source": [
        "### Data Wrangling Code"
      ],
      "metadata": {
        "id": "bKJF3rekwFvQ"
      }
    },
    {
      "cell_type": "code",
      "source": [
        "#Data wrangling is the process of cleaning, transforming, and organizing raw data into a format that is easier and more effective to analyze.\n",
        "# Remove duplicates\n",
        "dataset.drop_duplicates(inplace=True)\n",
        "\n",
        "# Drop columns with more than 80% missing values\n",
        "dataset = dataset.loc[:, dataset.isnull().mean() < 0.8]\n",
        "\n",
        "# Fill missing values\n",
        "dataset.fillna({'nkill': 0, 'nwound': 0}, inplace=True)\n",
        "dataset.fillna('Unknown', inplace=True)\n",
        "\n",
        "# Create a single date column\n",
        "dataset['date'] = pd.to_datetime(dict(year=dataset['iyear'],\n",
        "                                      month=dataset['imonth'].replace(0, 1),\n",
        "                                      day=dataset['iday'].replace(0, 1)),\n",
        "                                 errors='coerce')\n",
        "\n",
        "# Drop unnecessary columns\n",
        "dataset.drop(columns=['eventid', 'approxdate', 'related'], errors='ignore', inplace=True)\n",
        "\n",
        "# Final check\n",
        "print(\"Shape:\", dataset.shape)\n",
        "print(\"Missing values:\", dataset.isnull().sum().sum())\n"
      ],
      "metadata": {
        "id": "wk-9a2fpoLcV"
      },
      "execution_count": null,
      "outputs": []
    },
    {
      "cell_type": "markdown",
      "source": [
        "### What all manipulations have you done and insights you found?"
      ],
      "metadata": {
        "id": "MSa1f5Uengrz"
      }
    },
    {
      "cell_type": "markdown",
      "source": [
        "\n",
        "We began by loading the Global Terrorism Dataset and addressing encoding issues. We removed duplicate rows and dropped columns with over 80% missing values. Missing numeric values (like casualties) were filled with 0, while categorical nulls were replaced with \"Unknown.\" We also created a unified date column from year, month, and day fields for better time-based analysis. Unnecessary columns like eventid and related were removed. So far, we've observed that civilian populations are most frequently targeted, bombings are the most common attack type, and terrorism peaked globally around 2014–2015, especially in regions like the Middle East and South Asia."
      ],
      "metadata": {
        "id": "LbyXE7I1olp8"
      }
    },
    {
      "cell_type": "markdown",
      "source": [
        "## ***4. Data Vizualization, Storytelling & Experimenting with charts : Understand the relationships between variables***"
      ],
      "metadata": {
        "id": "GF8Ens_Soomf"
      }
    },
    {
      "cell_type": "markdown",
      "source": [
        "#### Chart - 1"
      ],
      "metadata": {
        "id": "0wOQAZs5pc--"
      }
    },
    {
      "cell_type": "code",
      "source": [
        "# Chart - 1 visualization code\n",
        "top_countries = dataset['country_txt'].value_counts().head(5)\n",
        "\n",
        "colors = ['crimson', 'teal', 'orange', 'purple', 'dodgerblue']\n",
        "\n",
        "plt.figure(figsize=(10,6))\n",
        "bars = plt.bar(top_countries.index, top_countries.values, color=colors)\n",
        "\n",
        "plt.title('Top 5 Countries with Most Terrorist Attacks')\n",
        "plt.xlabel('Country')\n",
        "plt.ylabel('Number of Attacks')\n",
        "plt.xticks(rotation=45)\n",
        "plt.grid(axis='y', linestyle='--', alpha=0.7)\n",
        "plt.tight_layout()\n",
        "plt.show()\n"
      ],
      "metadata": {
        "id": "7v_ESjsspbW7"
      },
      "execution_count": null,
      "outputs": []
    },
    {
      "cell_type": "markdown",
      "source": [
        "##### 1. Why did you pick the specific chart?"
      ],
      "metadata": {
        "id": "K5QZ13OEpz2H"
      }
    },
    {
      "cell_type": "markdown",
      "source": [
        "I chose a bar chart because it's simple and clear for comparing numbers. It easily shows which countries have faced the most terrorist attacks, making the data quick to understand at a glance."
      ],
      "metadata": {
        "id": "XESiWehPqBRc"
      }
    },
    {
      "cell_type": "markdown",
      "source": [
        "##### 2. What is/are the insight(s) found from the chart?"
      ],
      "metadata": {
        "id": "lQ7QKXXCp7Bj"
      }
    },
    {
      "cell_type": "markdown",
      "source": [
        "The chart reveals that Iraq has faced the highest number of terrorist attacks, followed by Pakistan, Afghanistan, India, and Colombia. This highlights how certain regions have been significantly more affected by terrorism over the years."
      ],
      "metadata": {
        "id": "C_j1G7yiqdRP"
      }
    },
    {
      "cell_type": "markdown",
      "source": [
        "##### 3. Will the gained insights help creating a positive business impact?\n",
        "Are there any insights that lead to negative growth? Justify with specific reason."
      ],
      "metadata": {
        "id": "448CDAPjqfQr"
      }
    },
    {
      "cell_type": "markdown",
      "source": [
        "**Positive Impact**: Helps governments and businesses identify high-risk regions and plan better security or investments.\n",
        "\n",
        "**Business Caution**: Companies may avoid expanding into terrorism-prone areas, affecting local growth.\n",
        "\n",
        "**Tourism & Insurance**: Sectors can adjust policies and pricing based on risk insights, improving decision-making."
      ],
      "metadata": {
        "id": "3cspy4FjqxJW"
      }
    },
    {
      "cell_type": "markdown",
      "source": [
        "#### Chart - 2"
      ],
      "metadata": {
        "id": "KSlN3yHqYklG"
      }
    },
    {
      "cell_type": "code",
      "source": [
        "# Chart - 2 visualization code\n",
        "top_attacks = dataset['attacktype1_txt'].value_counts().head(5)\n",
        "\n",
        "plt.figure(figsize=(5,5))\n",
        "plt.pie(top_attacks.values, labels=top_attacks.index, autopct='%1.1f%%')\n",
        "\n",
        "plt.title('Top 5 Most Common Attack Types')\n",
        "plt.axis('equal')\n",
        "plt.show()"
      ],
      "metadata": {
        "id": "R4YgtaqtYklH"
      },
      "execution_count": null,
      "outputs": []
    },
    {
      "cell_type": "markdown",
      "source": [
        "##### 1. Why did you pick the specific chart?"
      ],
      "metadata": {
        "id": "t6dVpIINYklI"
      }
    },
    {
      "cell_type": "markdown",
      "source": [
        "I chose a pie chart because it's perfect for showing how different attack types contribute to the whole. It helps visualize the proportion of each attack type in a simple, circular layout, making it easy to see which methods are most commonly used in terrorist incidents."
      ],
      "metadata": {
        "id": "5aaW0BYyYklI"
      }
    },
    {
      "cell_type": "markdown",
      "source": [
        "##### 2. What is/are the insight(s) found from the chart?"
      ],
      "metadata": {
        "id": "ijmpgYnKYklI"
      }
    },
    {
      "cell_type": "markdown",
      "source": [
        "The chart shows that bombings/explosions are the most common form of terrorist attack, followed by armed assaults and assassinations. This insight highlights that attackers often prefer high-impact, mass-casualty methods, which is crucial for shaping prevention and response strategies."
      ],
      "metadata": {
        "id": "PSx9atu2YklI"
      }
    },
    {
      "cell_type": "markdown",
      "source": [
        "##### 3. Will the gained insights help creating a positive business impact?\n",
        "Are there any insights that lead to negative growth? Justify with specific reason."
      ],
      "metadata": {
        "id": "-JiQyfWJYklI"
      }
    },
    {
      "cell_type": "markdown",
      "source": [
        "**Positive Impact**: Helps businesses and governments focus security efforts on the most common attack types like bombings and armed assaults.\n",
        "\n",
        "**Risk-Based Planning**: Insurance and travel industries can adjust coverage and pricing based on attack trends.\n",
        "\n",
        "**Negative Growth**: High risk of violent attack types may discourage investment and economic activity in affected regions."
      ],
      "metadata": {
        "id": "BcBbebzrYklV"
      }
    },
    {
      "cell_type": "markdown",
      "source": [
        "#### Chart - 3"
      ],
      "metadata": {
        "id": "EM7whBJCYoAo"
      }
    },
    {
      "cell_type": "code",
      "source": [
        "# Chart - 3 visualization code\n",
        "top_targets = dataset['targtype1_txt'].value_counts().head(5)\n",
        "\n",
        "top_targets.plot(kind='bar', color=['steelblue', 'coral', 'limegreen', 'gold', 'orchid'])\n",
        "\n",
        "plt.title('Top 5 Most Targeted Victim Types')\n",
        "plt.xlabel('Target Type')\n",
        "plt.ylabel('Number of Attacks')\n",
        "plt.xticks(rotation=45)\n",
        "\n",
        "plt.tight_layout()\n",
        "plt.show()"
      ],
      "metadata": {
        "id": "t6GMdE67YoAp"
      },
      "execution_count": null,
      "outputs": []
    },
    {
      "cell_type": "markdown",
      "source": [
        "##### 1. Why did you pick the specific chart?"
      ],
      "metadata": {
        "id": "fge-S5ZAYoAp"
      }
    },
    {
      "cell_type": "markdown",
      "source": [
        "I chose a bar chart because it clearly shows the comparison between the number of attacks on different target types. It’s easy to read and helps quickly identify which victim groups are most frequently targeted in terrorist activities."
      ],
      "metadata": {
        "id": "5dBItgRVYoAp"
      }
    },
    {
      "cell_type": "markdown",
      "source": [
        "##### 2. What is/are the insight(s) found from the chart?"
      ],
      "metadata": {
        "id": "85gYPyotYoAp"
      }
    },
    {
      "cell_type": "markdown",
      "source": [
        "The chart shows that civilians are the most frequently targeted group in terrorist attacks, followed by military, government, police, and businesses. This highlights that non-combatants often face the highest threat, emphasizing the need for stronger public safety measures."
      ],
      "metadata": {
        "id": "4jstXR6OYoAp"
      }
    },
    {
      "cell_type": "markdown",
      "source": [
        "##### 3. Will the gained insights help creating a positive business impact?\n",
        "Are there any insights that lead to negative growth? Justify with specific reason."
      ],
      "metadata": {
        "id": "RoGjAbkUYoAp"
      }
    },
    {
      "cell_type": "markdown",
      "source": [
        "**Positive Impact**: Helps governments and organizations strengthen protection for high-risk groups like civilians and security forces.\n",
        "\n",
        "**Informed Business Strategy**: Companies in targeted sectors (e.g., transport, retail) can implement better safety protocols and crisis plans.\n",
        "\n",
        "**Negative Growth**: Frequent targeting of public and business areas may reduce investor confidence and customer activity in vulnerable regions."
      ],
      "metadata": {
        "id": "zfJ8IqMcYoAp"
      }
    },
    {
      "cell_type": "markdown",
      "source": [
        "#### Chart - 4"
      ],
      "metadata": {
        "id": "4Of9eVA-YrdM"
      }
    },
    {
      "cell_type": "code",
      "source": [
        "# Chart - 4 visualization code\n",
        "attacks_per_year = dataset['iyear'].value_counts().sort_index()\n",
        "\n",
        "plt.plot(attacks_per_year.index, attacks_per_year.values, color='orange', marker='o')\n",
        "\n",
        "plt.title('Terrorist Attacks Over the Years')\n",
        "plt.xlabel('Year')\n",
        "plt.ylabel('Number of Attacks')\n",
        "\n",
        "plt.grid(True)\n",
        "plt.tight_layout()\n",
        "plt.show()"
      ],
      "metadata": {
        "id": "irlUoxc8YrdO"
      },
      "execution_count": null,
      "outputs": []
    },
    {
      "cell_type": "markdown",
      "source": [
        "##### 1. Why did you pick the specific chart?"
      ],
      "metadata": {
        "id": "iky9q4vBYrdO"
      }
    },
    {
      "cell_type": "markdown",
      "source": [
        "I chose a line chart because it clearly shows how terrorist attacks have changed over time. It helps identify trends, spikes, or declines in activity across different years, making it ideal for analyzing patterns in historical data."
      ],
      "metadata": {
        "id": "aJRCwT6DYrdO"
      }
    },
    {
      "cell_type": "markdown",
      "source": [
        "##### 2. What is/are the insight(s) found from the chart?"
      ],
      "metadata": {
        "id": "F6T5p64dYrdO"
      }
    },
    {
      "cell_type": "markdown",
      "source": [
        "The chart reveals that terrorist attacks increased steadily over the years, peaking around 2014, and then began to decline. This indicates a period of intense global unrest followed by efforts that possibly reduced incidents in later years."
      ],
      "metadata": {
        "id": "LOdi-G4akPkc"
      }
    },
    {
      "cell_type": "markdown",
      "source": [
        "##### 3. Will the gained insights help creating a positive business impact?\n",
        "Are there any insights that lead to negative growth? Justify with specific reason."
      ],
      "metadata": {
        "id": "y-Ehk30pYrdP"
      }
    },
    {
      "cell_type": "markdown",
      "source": [
        "**Positive Impact**: Identifying peak years helps governments and organizations analyze what triggered spikes and improve future prevention strategies.\n",
        "\n",
        "**Strategic Investment**: Businesses can assess safer time periods for investment in conflict-prone regions using historical trends.\n",
        "\n",
        "**Negative Growth**: Periods with high attack rates may have caused long-term damage to tourism, infrastructure, and foreign investment in affected areas."
      ],
      "metadata": {
        "id": "jLNxxz7MYrdP"
      }
    },
    {
      "cell_type": "markdown",
      "source": [
        "#### Chart - 5"
      ],
      "metadata": {
        "id": "bamQiAODYuh1"
      }
    },
    {
      "cell_type": "code",
      "source": [
        "# Chart - 5 visualization code\n",
        "month_counts = dataset['imonth'].value_counts().sort_index()\n",
        "\n",
        "plt.bar(month_counts.index, month_counts.values, color='skyblue', edgecolor='black', label='Histogram')\n",
        "plt.plot(month_counts.index, month_counts.values, color='red', marker='o', label='Line Plot')\n",
        "\n",
        "plt.title('Terrorist Attacks by Month')\n",
        "plt.xlabel('Month')\n",
        "plt.ylabel('Number of Attacks')\n",
        "plt.xticks(range(1, 13))\n",
        "plt.legend()\n",
        "plt.tight_layout()\n",
        "plt.show()"
      ],
      "metadata": {
        "id": "TIJwrbroYuh3"
      },
      "execution_count": null,
      "outputs": []
    },
    {
      "cell_type": "markdown",
      "source": [
        "##### 1. Why did you pick the specific chart?"
      ],
      "metadata": {
        "id": "QHF8YVU7Yuh3"
      }
    },
    {
      "cell_type": "markdown",
      "source": [
        "I chose this combined chart because it gives the best of both views: the histogram shows the frequency of attacks per month, while the line plot helps visualize the overall trend clearly. Together, they make it easier to spot which months are most and least affected and how the pattern flows across the year."
      ],
      "metadata": {
        "id": "dcxuIMRPYuh3"
      }
    },
    {
      "cell_type": "markdown",
      "source": [
        "##### 2. What is/are the insight(s) found from the chart?"
      ],
      "metadata": {
        "id": "GwzvFGzlYuh3"
      }
    },
    {
      "cell_type": "markdown",
      "source": [
        "The chart shows that terrorist attacks are not evenly distributed across the year. Certain months—like Nay,July and August—experience higher attack volumes, while months like February and December show relatively lower activity. This suggests a seasonal trend in terrorism, which can help authorities focus resources more strategically during peak months."
      ],
      "metadata": {
        "id": "uyqkiB8YYuh3"
      }
    },
    {
      "cell_type": "markdown",
      "source": [
        "##### 3. Will the gained insights help creating a positive business impact?\n",
        "Are there any insights that lead to negative growth? Justify with specific reason."
      ],
      "metadata": {
        "id": "qYpmQ266Yuh3"
      }
    },
    {
      "cell_type": "markdown",
      "source": [
        "**Positive Impact**: Recognizing peak months for attacks enables governments and organizations to enhance security planning and resource allocation during high-risk periods.\n",
        "\n",
        "**Operational Strategy**: Businesses operating in sensitive regions can schedule major activities or travel during lower-risk months, reducing potential disruptions.\n",
        "\n",
        "**Negative Growth**: Seasonal spikes in attacks can deter tourism and reduce consumer confidence in specific months, affecting revenue and economic activity in vulnerable sectors"
      ],
      "metadata": {
        "id": "_WtzZ_hCYuh4"
      }
    },
    {
      "cell_type": "markdown",
      "source": [
        "#### Chart - 6"
      ],
      "metadata": {
        "id": "OH-pJp9IphqM"
      }
    },
    {
      "cell_type": "code",
      "source": [
        "# Chart - 6 visualization code\n",
        "\n",
        "top_groups = dataset['gname'].value_counts().drop('Unknown').head(5)\n",
        "\n",
        "plt.pie(top_groups.values,\n",
        "        labels=top_groups.index,\n",
        "        autopct='%1.1f%%',\n",
        "        colors=['crimson', 'orange', 'lightblue', 'purple', 'green'],\n",
        "        startangle=140)\n",
        "\n",
        "plt.title('Top 5 Terrorist Organizations by Attack Count')\n",
        "plt.tight_layout()\n",
        "plt.show()"
      ],
      "metadata": {
        "id": "kuRf4wtuphqN"
      },
      "execution_count": null,
      "outputs": []
    },
    {
      "cell_type": "markdown",
      "source": [
        "##### 1. Why did you pick the specific chart?"
      ],
      "metadata": {
        "id": "bbFf2-_FphqN"
      }
    },
    {
      "cell_type": "markdown",
      "source": [
        "I chose a pie chart because it effectively shows the proportional contribution of each top terrorist organization to the overall number of attacks. It makes it easy to compare their impact at a glance and highlights which groups are most responsible within the top 5"
      ],
      "metadata": {
        "id": "loh7H2nzphqN"
      }
    },
    {
      "cell_type": "markdown",
      "source": [
        "##### 2. What is/are the insight(s) found from the chart?"
      ],
      "metadata": {
        "id": "_ouA3fa0phqN"
      }
    },
    {
      "cell_type": "markdown",
      "source": [
        "The chart reveals that the Taliban is the most active terrorist organization in terms of attack count. Other significant contributors include ISIL and Shining Path, highlighting their global threat levels. This indicates that a small number of groups are responsible for a large proportion of attacks, suggesting where focused counter-terrorism efforts could be most effective."
      ],
      "metadata": {
        "id": "VECbqPI7phqN"
      }
    },
    {
      "cell_type": "markdown",
      "source": [
        "##### 3. Will the gained insights help creating a positive business impact?\n",
        "Are there any insights that lead to negative growth? Justify with specific reason."
      ],
      "metadata": {
        "id": "Seke61FWphqN"
      }
    },
    {
      "cell_type": "markdown",
      "source": [
        "Yes, the gained insights can create a positive business impact by helping governments and security agencies prioritize resources toward monitoring and dismantling the most active terrorist organizations. It enables strategic planning and international collaboration focused on high-risk groups. However, these insights also reveal regions heavily affected by specific groups, which may deter investment, tourism, and economic growth in those areas, thereby contributing to negative impacts if not addressed properly."
      ],
      "metadata": {
        "id": "DW4_bGpfphqN"
      }
    },
    {
      "cell_type": "markdown",
      "source": [
        "#### Chart - 7"
      ],
      "metadata": {
        "id": "PIIx-8_IphqN"
      }
    },
    {
      "cell_type": "code",
      "source": [
        "# Chart - 7 visualization code\n",
        "# Filter out rows with null or 0 in 'nkill'\n",
        "filtered_data = dataset[(dataset['nkill'].notnull()) & (dataset['nkill'] > 0)]\n",
        "\n",
        "plt.figure(figsize=(12, 6))\n",
        "sns.boxplot(x='attacktype1_txt', y='nkill', data=filtered_data, palette='pastel')\n",
        "plt.yscale('log')  # Log scale for better visibility of wide range\n",
        "plt.title('Deaths per Attack by Attack Type (Log Scale)')\n",
        "plt.xlabel('Attack Type')\n",
        "plt.ylabel('Number of People Killed (Log Scale)')\n",
        "plt.xticks(rotation=45)\n",
        "plt.tight_layout()\n",
        "plt.show()"
      ],
      "metadata": {
        "id": "lqAIGUfyphqO"
      },
      "execution_count": null,
      "outputs": []
    },
    {
      "cell_type": "markdown",
      "source": [
        "##### 1. Why did you pick the specific chart?"
      ],
      "metadata": {
        "id": "t27r6nlMphqO"
      }
    },
    {
      "cell_type": "markdown",
      "source": [
        "I chose the box plot by attack type because it effectively shows the distribution and variability in the number of people killed across different types of attacks. This helps identify which attack methods tend to be more lethal and which are less deadly, providing a clear visual comparison of their impact. The box plot also highlights outliers and patterns that would be hidden in a simple average"
      ],
      "metadata": {
        "id": "iv6ro40sphqO"
      }
    },
    {
      "cell_type": "markdown",
      "source": [
        "##### 2. What is/are the insight(s) found from the chart?"
      ],
      "metadata": {
        "id": "r2jJGEOYphqO"
      }
    },
    {
      "cell_type": "markdown",
      "source": [
        "The box plot reveals significant variations in the lethality of different terrorist attack types. Most attack types have a median death count below 10, with wide ranges and numerous outliers indicating sporadic high-fatality incidents. “Hostage Taking (Barricade Incident)” stands out with a higher median and broader distribution, suggesting it often results in more casualties. Attack types like “Bombing/Explosion” and “Armed Assault” also show high variability, hinting at their unpredictable nature. The log scale emphasizes the disparity in casualty levels, helping identify the most dangerous and volatile attack methods. These insights are valuable for prioritizing security strategies and resource allocation."
      ],
      "metadata": {
        "id": "Po6ZPi4hphqO"
      }
    },
    {
      "cell_type": "markdown",
      "source": [
        "##### 3. Will the gained insights help creating a positive business impact?\n",
        "Are there any insights that lead to negative growth? Justify with specific reason."
      ],
      "metadata": {
        "id": "b0JNsNcRphqO"
      }
    },
    {
      "cell_type": "markdown",
      "source": [
        "**Strategic Resource Allocation**: By identifying attack types like “Barricade Incidents” and “Bombings” with higher casualty variability, security agencies and policymakers can prioritize funding and preventive strategies for high-risk scenarios.\n",
        "\n",
        "**Policy Formulation**: Insights guide governments to strengthen urban safety policies, invest in intelligence, and enhance emergency response systems around vulnerable infrastructure.\n",
        "\n",
        "**Negative Growth Insight**: High unpredictability in fatalities for common attacks (like bombings or assaults) reflects instability, which can deter investments, affect tourism, and hinder economic development in affected regions"
      ],
      "metadata": {
        "id": "xvSq8iUTphqO"
      }
    },
    {
      "cell_type": "markdown",
      "source": [
        "#### Chart - 8"
      ],
      "metadata": {
        "id": "BZR9WyysphqO"
      }
    },
    {
      "cell_type": "code",
      "source": [
        "# Chart - 8 visualization code\n",
        "\n",
        "\n",
        "# Filter out rows with missing or extreme values\n",
        "dataset_filtered = dataset[['region_txt', 'nwound']].dropna()\n",
        "dataset_filtered = dataset_filtered[dataset_filtered['nwound'] < 100]  # cap to avoid long tails\n",
        "\n",
        "# Plot\n",
        "plt.figure(figsize=(20, 10))\n",
        "sns.violinplot(x='region_txt', y='nwound', data=dataset_filtered, palette='coolwarm')\n",
        "\n",
        "plt.xticks(rotation=45)\n",
        "plt.title('Distribution of People Wounded by Region (Violin Plot)')\n",
        "plt.xlabel('Region')\n",
        "plt.ylabel('Number of People Wounded')\n",
        "plt.tight_layout()\n",
        "plt.show()"
      ],
      "metadata": {
        "id": "TdPTWpAVphqO"
      },
      "execution_count": null,
      "outputs": []
    },
    {
      "cell_type": "markdown",
      "source": [
        "##### 1. Why did you pick the specific chart?"
      ],
      "metadata": {
        "id": "jj7wYXLtphqO"
      }
    },
    {
      "cell_type": "markdown",
      "source": [
        "The violin plot was chosen because it provides a comprehensive view of how the number of people wounded varies across different regions. It not only shows the central tendency (like mean/median) but also the distribution shape, density, and presence of outliers for each region. This helps in identifying regions with consistently high or widely spread casualties due to terrorist attacks, which a simple bar or box plot may not capture as effectively."
      ],
      "metadata": {
        "id": "Ob8u6rCTphqO"
      }
    },
    {
      "cell_type": "markdown",
      "source": [
        "##### 2. What is/are the insight(s) found from the chart?"
      ],
      "metadata": {
        "id": "eZrbJ2SmphqO"
      }
    },
    {
      "cell_type": "markdown",
      "source": [
        "The violin plot highlights significant regional disparities in the number of people wounded due to terrorist attacks. Regions like South Asia and the Middle East & North Africa show both higher median casualties and a broader distribution, indicating not only frequent attacks but also more severe outcomes. In contrast, regions like Australasia & Oceania or Eastern Europe exhibit lower and more concentrated values, implying fewer or less severe incidents. The plot also reveals outliers in some regions, reflecting occasional extreme violence. Overall, this visualization helps identify high-risk areas, guiding resource allocation, policy-making, and strategic planning for counter-terrorism efforts."
      ],
      "metadata": {
        "id": "mZtgC_hjphqO"
      }
    },
    {
      "cell_type": "markdown",
      "source": [
        "##### 3. Will the gained insights help creating a positive business impact?\n",
        "Are there any insights that lead to negative growth? Justify with specific reason."
      ],
      "metadata": {
        "id": "rFu4xreNphqO"
      }
    },
    {
      "cell_type": "markdown",
      "source": [
        "The insights gained from the violin plot can significantly support positive business impact by helping governments and organizations identify regions most affected by terrorism in terms of wounded casualties. This can drive better allocation of security resources, healthcare preparedness, and focused policy-making to reduce future attacks and their human toll. However, these insights also reveal negative implications. High casualty zones like South Asia and the Middle East may deter tourism, foreign investment, and economic development. Persistent violence in these regions can harm infrastructure, create instability, and reduce investor confidence, ultimately leading to economic stagnation and a decline in regional growth potential."
      ],
      "metadata": {
        "id": "ey_0qi68phqO"
      }
    },
    {
      "cell_type": "markdown",
      "source": [
        "#### Chart - 9 - Correlation Heatmap"
      ],
      "metadata": {
        "id": "NC_X3p0fY2L0"
      }
    },
    {
      "cell_type": "code",
      "source": [
        "# Correlation Heatmap visualization code\n",
        "# Select only numerical columns\n",
        "numeric_data = dataset.select_dtypes(include=['int64', 'float64'])\n",
        "\n",
        "# Compute correlation matrix\n",
        "correlation_matrix = numeric_data.corr()\n",
        "\n",
        "# Plot heatmap\n",
        "plt.figure(figsize=(18, 15))\n",
        "sns.heatmap(correlation_matrix, annot=True, cmap='coolwarm', fmt=\".2f\", square=True, linewidths=0.2)\n",
        "\n",
        "plt.title('Correlation Heatmap of Numerical Features', fontsize=16)\n",
        "plt.tight_layout()\n",
        "plt.show()"
      ],
      "metadata": {
        "id": "xyC9zolEZNRQ"
      },
      "execution_count": null,
      "outputs": []
    },
    {
      "cell_type": "markdown",
      "source": [
        "##### 1. Why did you pick the specific chart?"
      ],
      "metadata": {
        "id": "UV0SzAkaZNRQ"
      }
    },
    {
      "cell_type": "markdown",
      "source": [
        "The correlation heatmap was chosen because it provides a clear, visual summary of how different numerical variables in the Global Terrorism dataset relate to each other. This chart helps detect patterns, associations, or potential multicollinearity between variables. For instance, in our heatmap:\n",
        "\n",
        "**High correlation** is observed between nkill and nwound (0.44), indicating that attacks causing fatalities also tend to wound people.\n",
        "\n",
        "The **property** variable shows negative correlation with iyear, suggesting property-related attacks may have declined over the years.\n",
        "\n",
        "**Strong positive correlation** among INT_LOG, INT_IDEO, and INT_ANY highlights overlapping variables in international involvement."
      ],
      "metadata": {
        "id": "DVPuT8LYZNRQ"
      }
    },
    {
      "cell_type": "markdown",
      "source": [
        "##### 2. What is/are the insight(s) found from the chart?"
      ],
      "metadata": {
        "id": "YPEH6qLeZNRQ"
      }
    },
    {
      "cell_type": "markdown",
      "source": [
        "The correlation heatmap reveals several key insights from the Global Terrorism dataset:\n",
        "\n",
        "1)Moderate positive correlation exists between nkill (number killed) and nwound (number wounded), suggesting that deadlier attacks also tend to injure more people.\n",
        "\n",
        "2)Variables related to international involvement (INT_LOG, INT_IDEO, INT_MISC, and INT_ANY) are strongly correlated with each other, indicating overlap in how international elements are classified.\n",
        "\n",
        "3)The property variable shows a negative correlation with iyear, implying that property-related incidents may have decreased over time.\n",
        "\n",
        "4)Most variables show low or no correlation with one another, suggesting that many attributes are independently distributed, which is useful for multivariate analysis without multicollinearity issues."
      ],
      "metadata": {
        "id": "bfSqtnDqZNRR"
      }
    },
    {
      "cell_type": "markdown",
      "source": [
        "#### Chart - 15 - Pair Plot"
      ],
      "metadata": {
        "id": "q29F0dvdveiT"
      }
    },
    {
      "cell_type": "code",
      "source": [
        "# Pair Plot visualization code\n",
        "# Select relevant numerical features (example: fatalities, injuries, and property damage)\n",
        "selected_features = dataset[['nkill', 'nwound', 'property', 'iyear']]\n",
        "\n",
        "# Drop rows with missing values for selected features\n",
        "selected_features = selected_features.dropna()\n",
        "\n",
        "# reduce extreme outliers to make the plot more interpretable\n",
        "selected_features = selected_features[(selected_features['nkill'] < 100) &\n",
        "                                      (selected_features['nwound'] < 100) &\n",
        "                                      (selected_features['property'] < 1e7)]\n",
        "\n",
        "# Create Pair Plot\n",
        "sns.pairplot(selected_features, diag_kind='kde', corner=True)\n",
        "plt.suptitle('Pair Plot of Kill, Wound, Property Damage, and Year', y=1.02)\n",
        "plt.show()"
      ],
      "metadata": {
        "id": "o58-TEIhveiU"
      },
      "execution_count": null,
      "outputs": []
    },
    {
      "cell_type": "markdown",
      "source": [
        "##### 1. Why did you pick the specific chart?"
      ],
      "metadata": {
        "id": "EXh0U9oCveiU"
      }
    },
    {
      "cell_type": "markdown",
      "source": [
        "The Pair Plot was chosen as it provides a comprehensive visual overview of relationships between multiple numerical features—specifically nkill, nwound, property, and iyear. It displays scatter plots between each pair, enabling identification of correlations or trends, such as how casualties vary over time. The diagonal histograms show the distribution and concentration of values, helping detect skewness or outliers. This plot is particularly useful for spotting clusters, trends, or anomalies across time and damage metrics in a single frame. Such visualization is ideal during exploratory data analysis, guiding deeper investigation and feature selection for modeling or strategic decision-making."
      ],
      "metadata": {
        "id": "eMmPjTByveiU"
      }
    },
    {
      "cell_type": "markdown",
      "source": [
        "##### 2. What is/are the insight(s) found from the chart?"
      ],
      "metadata": {
        "id": "22aHeOlLveiV"
      }
    },
    {
      "cell_type": "markdown",
      "source": [
        "The pair plot provides valuable insights into the relationship between fatalities, injuries, property damage, and time (year). A strong positive correlation is visible between the number of people killed (nkill) and wounded (nwound), suggesting that more deadly attacks often also result in more injuries. The time trend indicates a noticeable rise in both fatalities and injuries after the early 2000s, reflecting an escalation in the severity and frequency of attacks in recent decades. The property variable, which seems to be binary (likely indicating whether property damage occurred), shows that property damage has occurred in specific periods, likely aligning with high-fatality years. Most data points are clustered near the lower end of the casualty range, but the presence of a few outliers highlights some extremely deadly attacks. Overall, the pair plot helps identify both temporal trends and interdependencies between the variables, offering a holistic view of how the impact of terrorism has evolved."
      ],
      "metadata": {
        "id": "uPQ8RGwHveiV"
      }
    },
    {
      "cell_type": "markdown",
      "source": [
        "## **5. Solution to Business Objective**"
      ],
      "metadata": {
        "id": "JcMwzZxoAimU"
      }
    },
    {
      "cell_type": "markdown",
      "source": [
        "#### What do you suggest the client to achieve Business Objective ?\n",
        "Explain Briefly."
      ],
      "metadata": {
        "id": "8G2x9gOozGDZ"
      }
    },
    {
      "cell_type": "markdown",
      "source": [
        "To help the client achieve their business objective—whether it's enhancing national security, allocating resources effectively, or preventing future attacks—I recommend the following:\n",
        "\n",
        "1)***Focus on High-Risk Regions and Periods***: Based on trends in fatalities, injuries, and property damage, prioritize surveillance and intervention in regions and years with high activity, especially post-2000.\n",
        "\n",
        "2)***Predictive Modeling***: Use the strong correlation between attack severity metrics (kills, wounds) to build predictive models that can identify likely future hotspots or high-impact threats.\n",
        "\n",
        "3)***Resource Allocation***: Allocate emergency response, healthcare, and infrastructure protection resources based on patterns in the data (e.g., peak months or locations with repeated high damage).\n",
        "\n",
        "4)***Public Awareness & Policy***: Create targeted awareness programs and policies in the most affected regions to build resilience and reduce casualties.\n",
        "\n",
        "By acting on these data-driven insights, the client can make informed decisions that reduce risk, improve preparedness, and optimize the impact of safety measures."
      ],
      "metadata": {
        "id": "pASKb0qOza21"
      }
    },
    {
      "cell_type": "markdown",
      "source": [
        "# **Conclusion**"
      ],
      "metadata": {
        "id": "gCX9965dhzqZ"
      }
    },
    {
      "cell_type": "markdown",
      "source": [
        "1)***Terrorism is highly concentrated*** in specific regions—particularly the Middle East, South Asia, and Sub-Saharan Africa—indicating urgent need for focused geopolitical strategies and counter-terrorism operations.\n",
        "\n",
        "2)***A small number of terrorist organizations are responsible for a majority of global attacks***, with groups like the Taliban and ISIS being the most lethal, emphasizing the importance of dismantling key networks rather than diffuse efforts.\n",
        "\n",
        "3)***Civilians and private citizens remain the most targeted demographic***, revealing a disturbing shift in terror objectives toward mass fear and psychological impact over strategic or political gains.\n",
        "\n",
        "4)***The frequency and severity of attacks spiked dramatically post-2000***, especially between 2013–2015, signaling a failure of global preventive measures during that period and the need to evolve counter-terrorism frameworks.\n",
        "\n",
        "5)***Data-driven insights can drive impactful decisions***, from early threat detection to better resource allocation, proving that analytical intelligence is as critical as military and diplomatic efforts in fighting terrorism."
      ],
      "metadata": {
        "id": "Fjb1IsQkh3yE"
      }
    },
    {
      "cell_type": "markdown",
      "source": [
        "### ***Hurrah! You have successfully completed your EDA Capstone Project !!!***"
      ],
      "metadata": {
        "id": "gIfDvo9L0UH2"
      }
    }
  ]
}
